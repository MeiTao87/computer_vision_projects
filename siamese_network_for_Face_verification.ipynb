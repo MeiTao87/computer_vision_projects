{
  "nbformat": 4,
  "nbformat_minor": 0,
  "metadata": {
    "colab": {
      "name": "siamese_network.ipynb",
      "provenance": [],
      "collapsed_sections": [],
      "authorship_tag": "ABX9TyP5EzDEJ7yfKGor9OsohCZ0",
      "include_colab_link": true
    },
    "kernelspec": {
      "name": "python3",
      "display_name": "Python 3"
    },
    "language_info": {
      "name": "python"
    },
    "accelerator": "GPU"
  },
  "cells": [
    {
      "cell_type": "markdown",
      "metadata": {
        "id": "view-in-github",
        "colab_type": "text"
      },
      "source": [
        "<a href=\"https://colab.research.google.com/github/MeiTao87/computer_vision_projects/blob/main/siamese_network_for_Face_verification.ipynb\" target=\"_parent\"><img src=\"https://colab.research.google.com/assets/colab-badge.svg\" alt=\"Open In Colab\"/></a>"
      ]
    },
    {
      "cell_type": "code",
      "metadata": {
        "colab": {
          "base_uri": "https://localhost:8080/"
        },
        "id": "bgkyiGR3beEX",
        "outputId": "c0f16aba-04ac-4f41-dffc-025ac8a8f86e"
      },
      "source": [
        "from google.colab import drive\n",
        "drive.mount('/content/drive')\n",
        "path = '/content/drive/My Drive/'"
      ],
      "execution_count": 6,
      "outputs": [
        {
          "output_type": "stream",
          "text": [
            "Drive already mounted at /content/drive; to attempt to forcibly remount, call drive.mount(\"/content/drive\", force_remount=True).\n"
          ],
          "name": "stdout"
        }
      ]
    },
    {
      "cell_type": "code",
      "metadata": {
        "id": "MAYc77HzbbBa"
      },
      "source": [
        "import cv2\n",
        "import os\n",
        "from os import listdir\n",
        "from os.path import isfile, join\n",
        "from  scipy import ndimage\n",
        "import numpy as np\n",
        "from keras.layers.core import Lambda\n",
        "import tensorflow as tf\n",
        "from tensorflow import keras\n",
        "from keras.models import Sequential\n",
        "from tensorflow.python.keras.utils.data_utils import Sequence\n",
        "from keras.optimizers import Adam\n",
        "from tensorflow.keras.layers import Conv2D, ZeroPadding2D, Activation, Input, concatenate, MaxPooling2D, Flatten, Dense\n",
        "from tensorflow.keras.models import Model\n",
        "from keras.engine.topology import Layer\n",
        "from keras.regularizers import l2\n",
        "from keras import backend as K\n",
        "import matplotlib.pyplot as plt"
      ],
      "execution_count": 51,
      "outputs": []
    },
    {
      "cell_type": "code",
      "metadata": {
        "id": "VORqdgSSbKG7"
      },
      "source": [
        "def initialize_weights(shape, dtype=None):\n",
        "    \"\"\"\n",
        "        The paper, http://www.cs.utoronto.ca/~gkoch/files/msc-thesis.pdf\n",
        "        suggests to initialize CNN layer weights with mean as 0.0 and standard deviation of 0.01\n",
        "    \"\"\"\n",
        "    return np.random.normal(loc = 0.0, scale = 1e-2, size = shape)\n",
        "\n",
        "def initialize_bias(shape, dtype=None):\n",
        "    \"\"\"\n",
        "        The paper, http://www.cs.utoronto.ca/~gkoch/files/msc-thesis.pdf\n",
        "        suggests to initialize CNN layer bias with mean as 0.5 and standard deviation of 0.01\n",
        "    \"\"\"\n",
        "    return np.random.normal(loc = 0.5, scale = 1e-2, size = shape)\n",
        "\n",
        "def build_base_model(input_shape, dtype=None):\n",
        "    input_shape = (input_shape[0], input_shape[1], 3)\n",
        "    model = Sequential()\n",
        "    model.add(Conv2D(32, (3,3), activation='relu', input_shape=input_shape,\n",
        "                   kernel_initializer=initialize_weights, kernel_regularizer=l2(2e-4)))\n",
        "    model.add(MaxPooling2D())\n",
        "    model.add(Conv2D(64, (3,3), activation='relu',\n",
        "                     kernel_initializer=initialize_weights,\n",
        "                     bias_initializer=initialize_bias, kernel_regularizer=l2(2e-4)))\n",
        "    model.add(MaxPooling2D())\n",
        "    model.add(Conv2D(128, (3,3), activation='relu', kernel_initializer=initialize_weights,\n",
        "                     bias_initializer=initialize_bias, kernel_regularizer=l2(2e-4)))\n",
        "    model.add(MaxPooling2D())\n",
        "    model.add(Conv2D(256, (3,3), activation='relu', kernel_initializer=initialize_weights,\n",
        "                     bias_initializer=initialize_bias, kernel_regularizer=l2(2e-4)))\n",
        "    model.add(Flatten())\n",
        "    model.add(Dense(1024, activation='sigmoid',\n",
        "                   kernel_regularizer=l2(1e-3),\n",
        "                   kernel_initializer=initialize_weights,bias_initializer=initialize_bias))\n",
        "    return model\n",
        "\n",
        "\n",
        "def get_siamese_model(base_model, input_shape, dtype=None):\n",
        "    \"\"\"\n",
        "        Model architecture based on the one provided in: http://www.cs.utoronto.ca/~gkoch/files/msc-thesis.pdf\n",
        "    \"\"\"\n",
        "    # Define the tensors for the two input images\n",
        "    input_shape = (input_shape[0], input_shape[1], 3)\n",
        "    left_input = Input(input_shape)\n",
        "    right_input = Input(input_shape)\n",
        "    # Generate the encodings (feature vectors) for the two images\n",
        "    encoded_l = base_model(left_input)\n",
        "    encoded_r = base_model(right_input)\n",
        "    # Add a customized layer to compute the absolute difference between the encodings\n",
        "    L1_layer = Lambda(lambda tensors:K.abs(tensors[0] - tensors[1]))\n",
        "    L1_distance = L1_layer([encoded_l, encoded_r])\n",
        "    # Add a dense layer with a sigmoid unit to generate the similarity score\n",
        "    prediction = Dense(1,activation='sigmoid',bias_initializer=initialize_bias)(L1_distance)\n",
        "    # Connect the inputs with the outputs\n",
        "    siamese_net = Model(inputs=[left_input,right_input],outputs=prediction)\n",
        "    # return the model\n",
        "    return siamese_net\n",
        "\n",
        "\n",
        "def build_inference_model(base_model, input_shape, dtype=None):\n",
        "    # Define the tensors for the two input images\n",
        "    input_shape = (input_shape[0], input_shape[1], 3)\n",
        "    left_input = Input(input_shape)\n",
        "    right_input = Input(input_shape)\n",
        "    # Generate the encodings (feature vectors) for the two images\n",
        "    encoded_l = base_model(left_input)\n",
        "    encoded_r = base_model(right_input)\n",
        "    model = Model(inputs=[left_input,right_input],outputs=[encoded_l, encoded_r])\n",
        "    # return the model\n",
        "    return model\n"
      ],
      "execution_count": 36,
      "outputs": []
    },
    {
      "cell_type": "code",
      "metadata": {
        "id": "uTP-KziNHz72"
      },
      "source": [
        "def show(image, label):\n",
        "  plt.figure()\n",
        "  plt.imshow(image[0])\n",
        "  # plt.title(labels[label])\n",
        "  plt.title(label)\n",
        "  plt.axis('off')"
      ],
      "execution_count": 32,
      "outputs": []
    },
    {
      "cell_type": "code",
      "metadata": {
        "id": "FcIXpjE996Vi"
      },
      "source": [
        "def tripletDataGenerator(file_path,batch_size=32,training=True):\n",
        "    sub_folder_list = [os.path.join(file_path, f) for f in listdir(file_path) if not isfile(join(file_path, f))] # ['mt', 'zwq']\n",
        "    # randomly choose one folder as anchor and positive\n",
        "    L_folder_path = os.path.join(file_path, sub_folder_list[0])\n",
        "    R_folder_path = os.path.join(file_path, sub_folder_list[1])\n",
        "    L_img_path = []\n",
        "    R_img_path = []\n",
        "    for img in os.listdir(L_folder_path):\n",
        "        if img.endswith('face.jpg'):\n",
        "            L_img_path.append(os.path.join(L_folder_path, img))\n",
        "    for img in os.listdir(R_folder_path):\n",
        "        if img.endswith('face.jpg'):\n",
        "            R_img_path.append(os.path.join(R_folder_path, img))\n",
        "\n",
        "    # Creating the images batches to feed into network\n",
        "    img_L = np.zeros((batch_size,105,105,3),dtype=np.float32)\n",
        "    img_R = np.zeros((batch_size,105,105,3),dtype=np.float32)\n",
        "\n",
        "    #Dummy label variable\n",
        "    batch_label = np.zeros((batch_size, 1),dtype=np.float32)\n",
        "\n",
        "    while True:\n",
        "        for j in range(batch_size):\n",
        "            choice = np.random.randint(2)\n",
        "            if np.random.random() <= 0.5:\n",
        "                # Selecting from the same folder\n",
        "                if np.random.random() >= 0.5:\n",
        "                    l_img_path = L_img_path[np.random.randint(len(L_img_path))]\n",
        "                    r_img_path = L_img_path[np.random.randint(len(L_img_path))]\n",
        "                else:\n",
        "                    l_img_path = R_img_path[np.random.randint(len(R_img_path))]\n",
        "                    r_img_path = R_img_path[np.random.randint(len(R_img_path))]\n",
        "                label = 1\n",
        "            else: # Selecting from different folders\n",
        "                l_img_path = L_img_path[np.random.randint(len(L_img_path))]\n",
        "                r_img_path = R_img_path[np.random.randint(len(R_img_path))]\n",
        "                label = 0\n",
        "            if training:\n",
        "                l_img = plt.imread(l_img_path)\n",
        "                l_img = ndimage.rotate(l_img,np.random.randint(-10,10))\n",
        "                l_img = cv2.resize(l_img, (105, 105))\n",
        "                l_img = l_img.astype(np.float32)/255.\n",
        "                img_L[j] = l_img\n",
        "\n",
        "                r_img = plt.imread(r_img_path)\n",
        "                r_img = ndimage.rotate(r_img,np.random.randint(-10,10))\n",
        "                r_img = cv2.resize(r_img, (105, 105))\n",
        "                r_img = r_img.astype(np.float32)/255.\n",
        "                img_R[j] = r_img\n",
        "                batch_label[j] = label\n",
        "            else: # not training\n",
        "                l_img = plt.imread(l_img_path)\n",
        "                l_img = cv2.resize(l_img, (105, 105))\n",
        "                l_img = l_img.astype(np.float32)/255.\n",
        "                img_L[j] = l_img\n",
        "\n",
        "                r_img = plt.imread(r_img_path)\n",
        "                r_img = cv2.resize(r_img, (105, 105))\n",
        "                r_img = r_img.astype(np.float32)/255.\n",
        "                img_R[j] = r_img\n",
        "                batch_label[j] = label\n",
        "        yield (img_L,img_R), batch_label"
      ],
      "execution_count": 33,
      "outputs": []
    },
    {
      "cell_type": "code",
      "metadata": {
        "colab": {
          "base_uri": "https://localhost:8080/",
          "height": 685
        },
        "id": "zu4Hb8pgGydi",
        "outputId": "67e33e1d-49d6-4ded-ed14-aa73d09d0bd6"
      },
      "source": [
        "data = next(tripletDataGenerator(file_path='/content/drive/MyDrive/face_data'))\n",
        "print(type(data[0]))\n",
        "print(data[0][0].shape)\n",
        "print(data[1].shape)\n",
        "for i in range(3):\n",
        "    l = data[0][0][i]\n",
        "    r = data[0][1][i]\n",
        "    label = data[1][i]\n",
        "    if label[0] == 0:\n",
        "        print('NOT same')\n",
        "        title = 'Not same'\n",
        "    else:\n",
        "        title = 'Same'\n",
        "    plt.subplot(1,2,1)\n",
        "    plt.title(label=title)\n",
        "    plt.imshow(l)\n",
        "    plt.subplot(1,2,2)\n",
        "    plt.title(label=title)\n",
        "    plt.imshow(r)\n",
        "    plt.show()"
      ],
      "execution_count": 63,
      "outputs": [
        {
          "output_type": "stream",
          "text": [
            "<class 'tuple'>\n",
            "(32, 105, 105, 3)\n",
            "(32, 1)\n"
          ],
          "name": "stdout"
        },
        {
          "output_type": "display_data",
          "data": {
            "image/png": "[encoded data removed]",
            "text/plain": [
              "<Figure size 432x288 with 2 Axes>"
            ]
          },
          "metadata": {
            "tags": [],
            "needs_background": "light"
          }
        },
        {
          "output_type": "stream",
          "text": [
            "NOT same\n"
          ],
          "name": "stdout"
        },
        {
          "output_type": "display_data",
          "data": {
            "image/png": "[encoded data removed]",
            "text/plain": [
              "<Figure size 432x288 with 2 Axes>"
            ]
          },
          "metadata": {
            "tags": [],
            "needs_background": "light"
          }
        },
        {
          "output_type": "display_data",
          "data": {
            "image/png": "[encoded data removed]",
            "text/plain": [
              "<Figure size 432x288 with 2 Axes>"
            ]
          },
          "metadata": {
            "tags": [],
            "needs_background": "light"
          }
        }
      ]
    },
    {
      "cell_type": "code",
      "metadata": {
        "colab": {
          "base_uri": "https://localhost:8080/"
        },
        "id": "DLa9_6BDbmeP",
        "outputId": "0046ff85-c25a-4f25-9064-c09c61bc798b"
      },
      "source": [
        "input_shape = (105, 105)\n",
        "base_model = build_base_model(input_shape=input_shape)\n",
        "model = get_siamese_model(base_model, input_shape)\n",
        "model.summary()\n",
        "batch_size = 16\n",
        "file_path = '/content/drive/MyDrive/face_data'\n",
        "model.compile(optimizer='Adam', loss='binary_crossentropy')\n",
        "with tf.device('/gpu:0'):\n",
        "    model.fit(tripletDataGenerator(file_path=file_path,training=True),epochs=20, steps_per_epoch=200,verbose=1, validation_data=tripletDataGenerator(file_path=file_path,training=False), validation_steps=30)"
      ],
      "execution_count": 35,
      "outputs": [
        {
          "output_type": "stream",
          "text": [
            "Model: \"model_2\"\n",
            "__________________________________________________________________________________________________\n",
            "Layer (type)                    Output Shape         Param #     Connected to                     \n",
            "==================================================================================================\n",
            "input_5 (InputLayer)            [(None, 105, 105, 3) 0                                            \n",
            "__________________________________________________________________________________________________\n",
            "input_6 (InputLayer)            [(None, 105, 105, 3) 0                                            \n",
            "__________________________________________________________________________________________________\n",
            "sequential_4 (Sequential)       (None, 1024)         21623104    input_5[0][0]                    \n",
            "                                                                 input_6[0][0]                    \n",
            "__________________________________________________________________________________________________\n",
            "lambda_1 (Lambda)               (None, 1024)         0           sequential_4[0][0]               \n",
            "                                                                 sequential_4[1][0]               \n",
            "__________________________________________________________________________________________________\n",
            "dense_4 (Dense)                 (None, 1)            1025        lambda_1[0][0]                   \n",
            "==================================================================================================\n",
            "Total params: 21,624,129\n",
            "Trainable params: 21,624,129\n",
            "Non-trainable params: 0\n",
            "__________________________________________________________________________________________________\n",
            "Epoch 1/20\n",
            "200/200 [==============================] - 39s 191ms/step - loss: 0.7880 - val_loss: 0.1360\n",
            "Epoch 2/20\n",
            "200/200 [==============================] - 37s 186ms/step - loss: 0.1224 - val_loss: 1.0110\n",
            "Epoch 3/20\n",
            "200/200 [==============================] - 38s 189ms/step - loss: 0.9081 - val_loss: 0.7871\n",
            "Epoch 4/20\n",
            "200/200 [==============================] - 38s 189ms/step - loss: 0.7705 - val_loss: 0.7442\n",
            "Epoch 5/20\n",
            "200/200 [==============================] - 38s 190ms/step - loss: 0.7422 - val_loss: 0.7381\n",
            "Epoch 6/20\n",
            "200/200 [==============================] - 37s 187ms/step - loss: 0.7396 - val_loss: 0.7299\n",
            "Epoch 7/20\n",
            "200/200 [==============================] - 38s 191ms/step - loss: 0.7444 - val_loss: 0.8700\n",
            "Epoch 8/20\n",
            "200/200 [==============================] - 37s 187ms/step - loss: 0.7952 - val_loss: 0.7494\n",
            "Epoch 9/20\n",
            "200/200 [==============================] - 37s 187ms/step - loss: 0.7502 - val_loss: 0.7492\n",
            "Epoch 10/20\n",
            "200/200 [==============================] - 37s 187ms/step - loss: 1.1570 - val_loss: 1.7488\n",
            "Epoch 11/20\n",
            "200/200 [==============================] - 37s 186ms/step - loss: 1.5454 - val_loss: 1.1693\n",
            "Epoch 12/20\n",
            "200/200 [==============================] - 37s 187ms/step - loss: 1.1012 - val_loss: 0.9696\n",
            "Epoch 13/20\n",
            "200/200 [==============================] - 38s 188ms/step - loss: 0.9441 - val_loss: 0.8739\n",
            "Epoch 14/20\n",
            "200/200 [==============================] - 37s 187ms/step - loss: 0.9063 - val_loss: 1.1620\n",
            "Epoch 15/20\n",
            "200/200 [==============================] - 38s 190ms/step - loss: 1.0668 - val_loss: 0.9745\n",
            "Epoch 16/20\n",
            "200/200 [==============================] - 38s 189ms/step - loss: 0.9780 - val_loss: 1.0797\n",
            "Epoch 17/20\n",
            "200/200 [==============================] - 37s 188ms/step - loss: 1.1271 - val_loss: 1.3077\n",
            "Epoch 18/20\n",
            "200/200 [==============================] - 37s 188ms/step - loss: 1.2079 - val_loss: 1.4794\n",
            "Epoch 19/20\n",
            "200/200 [==============================] - 38s 190ms/step - loss: 1.4217 - val_loss: 1.5171\n",
            "Epoch 20/20\n",
            "200/200 [==============================] - 38s 190ms/step - loss: 1.3263 - val_loss: 1.2027\n"
          ],
          "name": "stdout"
        }
      ]
    },
    {
      "cell_type": "code",
      "metadata": {
        "id": "1ni9Hue9eh04"
      },
      "source": [
        "# save base model\n",
        "base_model.save('base_model1.h5')\n",
        "base_model.save_weights(\"ckpt\")\n",
        "# base_model.save('saved_model/base_model')"
      ],
      "execution_count": 57,
      "outputs": []
    },
    {
      "cell_type": "code",
      "metadata": {
        "colab": {
          "base_uri": "https://localhost:8080/"
        },
        "id": "BvY3RisJOHUl",
        "outputId": "bfbf8588-9a1f-467d-9726-e605cf3f86dd"
      },
      "source": [
        "# build_inference_model\n",
        "input_shape = (105, 105)\n",
        "base_model = build_base_model(input_shape=input_shape)\n",
        "base_model.load_weights(\"ckpt\")\n",
        "inference_model = build_inference_model(base_model, (105, 105))\n",
        "inference_model.summary()"
      ],
      "execution_count": 58,
      "outputs": [
        {
          "output_type": "stream",
          "text": [
            "Model: \"model_4\"\n",
            "__________________________________________________________________________________________________\n",
            "Layer (type)                    Output Shape         Param #     Connected to                     \n",
            "==================================================================================================\n",
            "input_9 (InputLayer)            [(None, 105, 105, 3) 0                                            \n",
            "__________________________________________________________________________________________________\n",
            "input_10 (InputLayer)           [(None, 105, 105, 3) 0                                            \n",
            "__________________________________________________________________________________________________\n",
            "sequential_5 (Sequential)       (None, 1024)         21623104    input_9[0][0]                    \n",
            "                                                                 input_10[0][0]                   \n",
            "==================================================================================================\n",
            "Total params: 21,623,104\n",
            "Trainable params: 21,623,104\n",
            "Non-trainable params: 0\n",
            "__________________________________________________________________________________________________\n"
          ],
          "name": "stdout"
        }
      ]
    },
    {
      "cell_type": "code",
      "metadata": {
        "id": "59CMpn0MOHRr"
      },
      "source": [
        "def preprocess(img1,img2):\n",
        "  img1 = cv2.resize(img1,(105,105))\n",
        "  img1.astype(np.float32)/255.\n",
        "\n",
        "  img2 = cv2.resize(img2,(105,105))\n",
        "  img2.astype(np.float32)/255.\n",
        "  \n",
        "  img1 = img1.reshape(-1,105,105,3)\n",
        "  img2 = img2.reshape(-1,105,105,3)\n",
        "  return img1,img2"
      ],
      "execution_count": 59,
      "outputs": []
    },
    {
      "cell_type": "code",
      "metadata": {
        "id": "oWyhte6tOHOf"
      },
      "source": [
        "from scipy import spatial\n",
        "def inference(inputs):\n",
        "  img1,img2 = inputs\n",
        "  img1,img2 = preprocess(img1,img2)\n",
        "  x1,x2 = inference_model.predict((img1,img2))\n",
        "  print(x1, x2)\n",
        "  dist = spatial.distance.cosine(x1, x2)\n",
        "  print(dist)\n",
        "  if(dist<0.5):\n",
        "    print(\"SAME\")\n",
        "  else:\n",
        "    print(\"DIFFERENT\")"
      ],
      "execution_count": 60,
      "outputs": []
    },
    {
      "cell_type": "code",
      "metadata": {
        "colab": {
          "base_uri": "https://localhost:8080/"
        },
        "id": "eeWgbiBuOHLJ",
        "outputId": "560bb0bf-ef52-41e3-c8c9-72a1f1a4984f"
      },
      "source": [
        "img1 = plt.imread('/content/drive/MyDrive/face_data/mt/10face.jpg')\n",
        "img2 = plt.imread('/content/drive/MyDrive/face_data/zwq/15face.jpg')\n",
        "inference((img1,img2))"
      ],
      "execution_count": 61,
      "outputs": [
        {
          "output_type": "stream",
          "text": [
            "[[0.0000000e+00 0.0000000e+00 9.9993372e-01 ... 1.0000000e+00\n",
            "  4.1235847e-08 0.0000000e+00]] [[0.0000000e+00 0.0000000e+00 9.9993372e-01 ... 1.0000000e+00\n",
            "  4.1235847e-08 0.0000000e+00]]\n",
            "0.0\n",
            "SAME\n"
          ],
          "name": "stdout"
        }
      ]
    },
    {
      "cell_type": "code",
      "metadata": {
        "id": "ARYNExKKOHHm"
      },
      "source": [
        ""
      ],
      "execution_count": null,
      "outputs": []
    },
    {
      "cell_type": "code",
      "metadata": {
        "id": "uVom-_S2OHE4"
      },
      "source": [
        ""
      ],
      "execution_count": null,
      "outputs": []
    },
    {
      "cell_type": "code",
      "metadata": {
        "id": "onphp7ZROHBq"
      },
      "source": [
        ""
      ],
      "execution_count": null,
      "outputs": []
    },
    {
      "cell_type": "code",
      "metadata": {
        "id": "ubp75F8DOG-j"
      },
      "source": [
        ""
      ],
      "execution_count": null,
      "outputs": []
    },
    {
      "cell_type": "code",
      "metadata": {
        "id": "AHc2fxGJOG7V"
      },
      "source": [
        ""
      ],
      "execution_count": null,
      "outputs": []
    },
    {
      "cell_type": "code",
      "metadata": {
        "id": "1e3WpgsBOG4H"
      },
      "source": [
        ""
      ],
      "execution_count": null,
      "outputs": []
    },
    {
      "cell_type": "code",
      "metadata": {
        "id": "Phj_kWIFOG1D"
      },
      "source": [
        ""
      ],
      "execution_count": null,
      "outputs": []
    },
    {
      "cell_type": "code",
      "metadata": {
        "id": "QjMT25gQOGxh"
      },
      "source": [
        ""
      ],
      "execution_count": null,
      "outputs": []
    },
    {
      "cell_type": "code",
      "metadata": {
        "id": "2sWczjNAOGuN"
      },
      "source": [
        ""
      ],
      "execution_count": null,
      "outputs": []
    },
    {
      "cell_type": "code",
      "metadata": {
        "id": "jdzsUzclOGq5"
      },
      "source": [
        ""
      ],
      "execution_count": null,
      "outputs": []
    },
    {
      "cell_type": "code",
      "metadata": {
        "id": "Z4mv1dtAOGom"
      },
      "source": [
        ""
      ],
      "execution_count": null,
      "outputs": []
    },
    {
      "cell_type": "code",
      "metadata": {
        "id": "vYVrpBA9OGkk"
      },
      "source": [
        ""
      ],
      "execution_count": null,
      "outputs": []
    },
    {
      "cell_type": "code",
      "metadata": {
        "id": "UPos1Jy2OGhZ"
      },
      "source": [
        ""
      ],
      "execution_count": null,
      "outputs": []
    },
    {
      "cell_type": "code",
      "metadata": {
        "id": "r7imr_uVOGd0"
      },
      "source": [
        ""
      ],
      "execution_count": null,
      "outputs": []
    },
    {
      "cell_type": "code",
      "metadata": {
        "id": "UQJcEyWNOGXb"
      },
      "source": [
        ""
      ],
      "execution_count": null,
      "outputs": []
    },
    {
      "cell_type": "code",
      "metadata": {
        "id": "XngHARbSOGOW"
      },
      "source": [
        ""
      ],
      "execution_count": null,
      "outputs": []
    },
    {
      "cell_type": "code",
      "metadata": {
        "id": "k-gaAfE7OGC_"
      },
      "source": [
        ""
      ],
      "execution_count": null,
      "outputs": []
    },
    {
      "cell_type": "code",
      "metadata": {
        "id": "74ggXU17bjG9"
      },
      "source": [
        "class DataGenerator(Sequence):\n",
        "    def __init__(self, file_path, batch_size=1, shuffle=False, probability=0.5, imshape=(105,105)):\n",
        "        self.shuffle = shuffle\n",
        "        self.file_path = file_path \n",
        "        self.batch_size = batch_size\n",
        "        self.probability = probability # probability of choose same person\n",
        "        self.imshape = imshape\n",
        "        # self.on_epoch_end()\n",
        "        sub_folder_list = [os.path.join(self.file_path, f) for f in listdir(self.file_path) if not isfile(join(self.file_path, f))] # ['mt', 'zwq']\n",
        "        choose_folder_index = np.random.randint(0, len(sub_folder_list)) # 0 or 1\n",
        "        chosen_folder_path = os.path.join(self.file_path, sub_folder_list[choose_folder_index])\n",
        "        # for my case, there are just two folders\n",
        "        not_chosen_folder_path = os.path.join(self.file_path, sub_folder_list[1 - choose_folder_index])\n",
        "        # put imgs(path) in chosen folder into one list,\n",
        "        # other imgs(path) in others folders into another list\n",
        "        self.chosen_img_path = []\n",
        "        self.not_chosen_img_path = []\n",
        "        for img in os.listdir(chosen_folder_path):\n",
        "            if img.endswith('face.jpg'):\n",
        "                self.chosen_img_path.append(os.path.join(chosen_folder_path, img))\n",
        "        for img in os.listdir(not_chosen_folder_path):\n",
        "            if img.endswith('face.jpg'):\n",
        "                self.not_chosen_img_path.append(os.path.join(not_chosen_folder_path, img))\n",
        "        \n",
        "    def __len__(self):\n",
        "        # Denotes the number of batches per epoch\n",
        "        return int(np.floor(len(self.chosen_img_path) / self.batch_size))\n",
        "\n",
        "    def __getitem__(self, batch_size):\n",
        "        X = np.zeros((self.batch_size, 2, self.imshape[0], self.imshape[1], 3)) \n",
        "        y = np.empty((self.batch_size, 1),  dtype=np.uint8) \n",
        "        # for i in range(self.batch_size):\n",
        "        while True:\n",
        "            dice = np.random.random()\n",
        "            if dice <= self.probability: # choose from same folder\n",
        "                if np.random.random() >= 0.5:\n",
        "                    img_list = self.not_chosen_img_path\n",
        "                else:\n",
        "                    img_list = self.chosen_img_path \n",
        "                img_L = cv2.imread(img_list[np.random.randint(0, len(img_list))])\n",
        "                img_R = cv2.imread(img_list[np.random.randint(0, len(img_list))])\n",
        "                img_L, img_R = cv2.resize(img_L, self.imshape), cv2.resize(img_R, self.imshape)\n",
        "                # X[i][0], X[i][1] = img_L, img_R\n",
        "                y[i,] = 1\n",
        "            else: # choose from different folders\n",
        "                img_L = cv2.imread(self.chosen_img_path[np.random.randint(0, len(self.chosen_img_path))])\n",
        "                img_R = cv2.imread(self.not_chosen_img_path[np.random.randint(0, len(self.not_chosen_img_path))])\n",
        "                img_L, img_R = cv2.resize(img_L, self.imshape), cv2.resize(img_R, self.imshape)\n",
        "                # X[i][0], X[i][1] = cv2.resize(img_L, self.imshape), cv2.resize(img_R, self.imshape)\n",
        "                y[i,] = 0\n",
        "        return (img_L, img_R), y"
      ],
      "execution_count": 41,
      "outputs": []
    }
  ]
}